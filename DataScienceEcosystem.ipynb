{
 "cells": [
  {
   "cell_type": "markdown",
   "id": "b8027aaa-2f55-467b-a715-ca3083b72a43",
   "metadata": {},
   "source": [
    "# Data Science Tools and Ecosystem"
   ]
  },
  {
   "cell_type": "markdown",
   "id": "20470e53-8a6b-4351-98d6-7577f20c1413",
   "metadata": {},
   "source": [
    "In this notebook, Data Science Tools and Ecosystem are summarized."
   ]
  },
  {
   "cell_type": "markdown",
   "id": "61b66f5f-44e5-4386-b20a-aec813b385fb",
   "metadata": {},
   "source": [
    "**Objectives**\n",
    "- List popular languages for Data Science\n",
    "- List Some of the commonly used libraries used by Data Scientists\n",
    "- List few  development environment open source tools used in data - science.\n",
    "- Understanding how to work on Mark Down Cells\n",
    "- How to Do Basic arithmetic expressions in Code cells of Jupiter  Note book\n"
   ]
  },
  {
   "cell_type": "markdown",
   "id": "abfb8379-5c81-4eb6-8160-c5ac9398b2bc",
   "metadata": {},
   "source": [
    "Some of the popular languages that Data Scientists use are:\n",
    "\n",
    "1. Python\n",
    "2. R\n",
    "3. SQL\n"
   ]
  },
  {
   "cell_type": "markdown",
   "id": "dfc686fa-8592-41d3-9caa-f02301f55278",
   "metadata": {},
   "source": [
    "Some of the commonly used libraries used by Data Scientists include:\n",
    "1. Pandas\n",
    "2. NumPy\n",
    "3. Matplotlib\n",
    "4. ggplot\n",
    "5. Caret\n"
   ]
  },
  {
   "cell_type": "markdown",
   "id": "80f8b0af-578c-4d93-b64d-b6ab6af785d4",
   "metadata": {},
   "source": [
    "| Data Science Tools |\n",
    "| ------------------ |\n",
    "Jupyter Notebook\n",
    "R studio \n",
    "Visual Studio code\n"
   ]
  },
  {
   "cell_type": "markdown",
   "id": "c977f07a-2f97-4d30-b042-2fcd54b79c9f",
   "metadata": {},
   "source": [
    "###  Below are a few examples of evaluating arithmetic expressions in Python"
   ]
  },
  {
   "cell_type": "code",
   "execution_count": 1,
   "id": "749ef3a5-e2e8-47cf-a0b2-33bd0f2c6dd3",
   "metadata": {},
   "outputs": [
    {
     "data": {
      "text/plain": [
       "17"
      ]
     },
     "execution_count": 1,
     "metadata": {},
     "output_type": "execute_result"
    }
   ],
   "source": [
    "# This a simple arithmetic expression to mutiply then add integers\n",
    "(3*4)+5\n"
   ]
  },
  {
   "cell_type": "code",
   "execution_count": 2,
   "id": "4616cbdd-82a4-48b5-81f8-97b4e9933a0b",
   "metadata": {},
   "outputs": [
    {
     "name": "stdout",
     "output_type": "stream",
     "text": [
      "3.3333333333333335\n"
     ]
    }
   ],
   "source": [
    "# This will convert 200 minutes to hours by diving by 60.\n",
    "mins = 200\n",
    "valx = 60\n",
    "Hrs = mins/valx\n",
    "print(Hrs)\n"
   ]
  },
  {
   "cell_type": "markdown",
   "id": "6e797be8-0f75-4eb5-92ab-db0a0e397125",
   "metadata": {},
   "source": [
    "##  Author\n",
    "Kranthi Sampara\n"
   ]
  }
 ],
 "metadata": {
  "kernelspec": {
   "display_name": "Python 3 (ipykernel)",
   "language": "python",
   "name": "python3"
  },
  "language_info": {
   "codemirror_mode": {
    "name": "ipython",
    "version": 3
   },
   "file_extension": ".py",
   "mimetype": "text/x-python",
   "name": "python",
   "nbconvert_exporter": "python",
   "pygments_lexer": "ipython3",
   "version": "3.12.8"
  }
 },
 "nbformat": 4,
 "nbformat_minor": 5
}
